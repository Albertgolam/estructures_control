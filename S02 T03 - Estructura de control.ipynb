{
 "cells": [
  {
   "cell_type": "markdown",
   "id": "e768aba4",
   "metadata": {},
   "source": [
    "# Nivell 1\n",
    "\n",
    "### Exercici 1\n",
    "\n",
    "L'exercici consisteix a crear un programa que et classifiqui una variable numèrica en funció de l’escala Suspès/Aprovat/Notable/Excel·lent\n",
    "\n",
    "* Suspès: 0 - 4.9\n",
    "* Aprovat: 5 - 6.9\n",
    "* Notable: 7 - 8.9\n",
    "* Excel·lent: 9 - 10"
   ]
  },
  {
   "cell_type": "code",
   "execution_count": 1,
   "id": "35de4291",
   "metadata": {},
   "outputs": [],
   "source": [
    "# Funció que rep una nota numèrica i retorna el seu valor en funció de l’escala Suspès/Aprovat/Notable/Excel·lent\n",
    "def classifica_nota(nota):\n",
    "    if nota < 5:\n",
    "        return(\"Suspès\")\n",
    "    elif nota < 7:\n",
    "        return(\"Aprovat\")\n",
    "    elif nota < 9:\n",
    "        return(\"Notable\")\n",
    "    else:\n",
    "        return(\"Excel·lent\")"
   ]
  },
  {
   "cell_type": "code",
   "execution_count": 2,
   "id": "454d5c17",
   "metadata": {},
   "outputs": [
    {
     "name": "stdout",
     "output_type": "stream",
     "text": [
      "La nota 3.5 es un Suspès\n",
      "La nota 5.7 es un Aprovat\n",
      "La nota 7.5 es un Notable\n",
      "La nota 9.3 es un Excel·lent\n"
     ]
    }
   ],
   "source": [
    "# Llista amb diferents notes\n",
    "notes = [3.5, 5.7, 7.5, 9.3]\n",
    "\n",
    "# For loop per classificar totes les notes de la llista i imprimir el text corresponent al valor numèric\n",
    "for nota in notes:\n",
    "    print(\"La nota {} es un {}\".format(nota, classifica_nota(nota)))"
   ]
  },
  {
   "cell_type": "markdown",
   "id": "95d9a3a0",
   "metadata": {},
   "source": [
    "### Exercici 2\n",
    "\n",
    "Utilitzant el següent tutorial _Programiz: Python Input, Output and Import_ crea un programa que et pregunti dos números. T’ha de mostrar un missatge dient si el primer és més gran, el segon és més gran o són iguals."
   ]
  },
  {
   "cell_type": "code",
   "execution_count": 3,
   "id": "d4bfb4de",
   "metadata": {},
   "outputs": [],
   "source": [
    "# Funció que calcula quin número es més gran o si són iguals\n",
    "def compara_nums(num1, num2):\n",
    "    if num1 == num2:\n",
    "        print(\"El primer número {} i el segon número {} son iguals.\".format(num1, num2))\n",
    "    elif num1 > num2:\n",
    "        print(\"El primer número {} és més gran que el segon número {}\".format(num1, num2))\n",
    "    else:\n",
    "        print(\"El segon número {} és més gran que el primer número {}\".format(num2, num1))"
   ]
  },
  {
   "cell_type": "code",
   "execution_count": 4,
   "id": "cd0e4aff",
   "metadata": {},
   "outputs": [
    {
     "name": "stdout",
     "output_type": "stream",
     "text": [
      "Introdueix el primer número: 8\n",
      "Introdueix el segon número: 4\n",
      "El primer número 8 és més gran que el segon número 4\n"
     ]
    }
   ],
   "source": [
    "# Demanar 2 números\n",
    "num1 = int(input('Introdueix el primer número: '))\n",
    "num2 = int(input('Introdueix el segon número: '))\n",
    "# Crida a la funció que imprimeix quin és el més gran o si són iguals\n",
    "compara_nums(num1, num2)"
   ]
  },
  {
   "cell_type": "markdown",
   "id": "c521e20c",
   "metadata": {},
   "source": [
    "### Exercici 3\n",
    "\n",
    "Crea un programa que et pregunti el teu nom, i et demani un número. Si el número és 0, hauria de mostrar un missatge d’error. En cas contrari, hauria de mostrar el nom repetit tants cops com indiqui el número. Per exemple, “Joan Joan Joan”."
   ]
  },
  {
   "cell_type": "code",
   "execution_count": 5,
   "id": "2ab7e0e0",
   "metadata": {},
   "outputs": [],
   "source": [
    "# Funció que rep un nom i un número. Si el número es 0, mostra un error. Si no, mostra el nom repetit tantes vegades com el número introduit\n",
    "def mostra_nom(nom, num):\n",
    "    if num == 0:\n",
    "        print(\"El número introduït és incorrecte. Introdueix un número major the 0\")\n",
    "    else:\n",
    "        print(\"{} \".format(nom) * int(num))"
   ]
  },
  {
   "cell_type": "code",
   "execution_count": 6,
   "id": "664302a6",
   "metadata": {},
   "outputs": [
    {
     "name": "stdout",
     "output_type": "stream",
     "text": [
      "Introdueix un nom: Albert\n",
      "Introdueix un número: 5\n",
      "Albert Albert Albert Albert Albert \n"
     ]
    }
   ],
   "source": [
    "# Demanar nom i número\n",
    "nom = input('Introdueix un nom: ')\n",
    "num = input('Introdueix un número: ')\n",
    "# Crida a la funció que imprimeix quin és el més gran o si són iguals\n",
    "mostra_nom(nom, num)"
   ]
  },
  {
   "cell_type": "markdown",
   "id": "fcb9e88c",
   "metadata": {},
   "source": [
    "### Exercici 4\n",
    "\n",
    "Crea un programa que donada una llista qualsevol, et digui si es simètrica o no. Si ho és, que et digui quants elements té.\n",
    "\n",
    "Per veure si una llista es simètrica s'ha d'invertir l'ordre dels seus elements per després comprovar si són iguals o no.\n",
    "\n",
    "#### Invertir l'ordre utilitzant indexació i slicing"
   ]
  },
  {
   "cell_type": "code",
   "execution_count": 7,
   "id": "65c69f47",
   "metadata": {},
   "outputs": [],
   "source": [
    "def llista_simetrica(llista):\n",
    "    # Inversió de la llista\n",
    "    llista2 = llista[::-1]\n",
    "    # Comprovar si les llistes son simètriques\n",
    "    if llista == llista2:\n",
    "        print(\"La llista {} és simètrica i contè {} elements.\".format(llista, len(llista)))\n",
    "    else:\n",
    "        print(\"La llista {} no és simètrica.\".format(llista))"
   ]
  },
  {
   "cell_type": "code",
   "execution_count": 8,
   "id": "26cae85b",
   "metadata": {},
   "outputs": [
    {
     "name": "stdout",
     "output_type": "stream",
     "text": [
      "La llista [1, 2, 3, 4, 3, 2, 1] és simètrica i contè 7 elements.\n"
     ]
    }
   ],
   "source": [
    "# Creació de la llista\n",
    "llista = [1,2,3,4,3,2,1]\n",
    "# Crida a la funció llista_simetrica que rep una llista i retorna si és simètrica o no\n",
    "llista_simetrica(llista)"
   ]
  },
  {
   "cell_type": "code",
   "execution_count": 9,
   "id": "87b15794",
   "metadata": {},
   "outputs": [
    {
     "name": "stdout",
     "output_type": "stream",
     "text": [
      "La llista [1, 2, 3, 4, 5, 3, 2, 1] no és simètrica.\n"
     ]
    }
   ],
   "source": [
    "# Creació de la llista\n",
    "nova_llista = [1,2,3,4,5,3,2,1]\n",
    "# Crida a la funció llista_simetrica que rep una llista i retorna si és simètrica o no\n",
    "llista_simetrica(nova_llista)"
   ]
  },
  {
   "cell_type": "markdown",
   "id": "d46ef504",
   "metadata": {},
   "source": [
    "#### Invertir l'ordre utilitzant **for** loop"
   ]
  },
  {
   "cell_type": "code",
   "execution_count": 10,
   "id": "12be5733",
   "metadata": {},
   "outputs": [],
   "source": [
    "def llista_simetrica_for(llista):\n",
    "    llista_invertida = []\n",
    "    # Recorre la llista desde l'últim element\n",
    "    for num in range(1,len(llista)+1):\n",
    "        llista_invertida.append(llista[-num])\n",
    "    # Comprovar si les llistes son simètriques\n",
    "    if llista == llista_invertida:\n",
    "        print(\"La llista {} és simètrica i contè {} elements.\".format(llista, len(llista)))\n",
    "    else:\n",
    "        print(\"La llista {} no és simètrica.\".format(llista))"
   ]
  },
  {
   "cell_type": "code",
   "execution_count": 11,
   "id": "85205bc3",
   "metadata": {},
   "outputs": [
    {
     "name": "stdout",
     "output_type": "stream",
     "text": [
      "La llista [1, 2, 3, 4, 3, 2, 1] és simètrica i contè 7 elements.\n"
     ]
    }
   ],
   "source": [
    "# Crida a la funció llista_simetrica que rep una llista i retorna si és simètrica o no\n",
    "llista_simetrica_for(llista)"
   ]
  },
  {
   "cell_type": "code",
   "execution_count": 12,
   "id": "8fdcc83e",
   "metadata": {},
   "outputs": [
    {
     "name": "stdout",
     "output_type": "stream",
     "text": [
      "La llista [1, 2, 3, 4, 5, 3, 2, 1] no és simètrica.\n"
     ]
    }
   ],
   "source": [
    "# Crida a la funció llista_simetrica que rep una llista i retorna si és simètrica o no\n",
    "llista_simetrica_for(nova_llista)"
   ]
  },
  {
   "cell_type": "markdown",
   "id": "a7f5e725",
   "metadata": {},
   "source": [
    "### Exercici 5\n",
    "\n",
    "Crea un programa que donada una llista, et digui quants números coincideixen amb la seva posició. Per exemple [3,4,2,0,2,3,6] el 2 i el 6 coincideixen."
   ]
  },
  {
   "cell_type": "code",
   "execution_count": 13,
   "id": "6dc170d7",
   "metadata": {},
   "outputs": [],
   "source": [
    "# Funció que comprova quins numeros d'una llista coincideixen amb el seu index\n",
    "def num_index(llista):\n",
    "    num_coincidents = []\n",
    "    for index,num in enumerate(llista):\n",
    "        if index == num:\n",
    "            num_coincidents.append(num)\n",
    "    if len(num_coincidents) == 1:\n",
    "        print(\"A la llista {} coincideix 1 número amb el seu índex: {}\".format(llista, num_coincidents[0]))\n",
    "    elif len(num_coincidents) > 1:\n",
    "        print(\"A la llista {} coincideixen {} números amb el seu índex: {}\".format(llista, len(num_coincidents), \n",
    "                                                                    \", \".join([str(num) for num in num_coincidents])))\n",
    "    else:\n",
    "        print(\"A la llista {} no coincideix cap número amb el seu índex.\".format(llista))       "
   ]
  },
  {
   "cell_type": "code",
   "execution_count": 14,
   "id": "528e248f",
   "metadata": {},
   "outputs": [],
   "source": [
    "# Creació de 3 llistes per comprovar \n",
    "llista_index1 = [3,7,2,8,9,1,2,3]\n",
    "llista_index2 = [4,7,9,3,4,5,0,1]\n",
    "llista_index3 = [1,2,3,4,5,6,7,8]"
   ]
  },
  {
   "cell_type": "code",
   "execution_count": 15,
   "id": "abde4b70",
   "metadata": {},
   "outputs": [
    {
     "name": "stdout",
     "output_type": "stream",
     "text": [
      "A la llista [3, 7, 2, 8, 9, 1, 2, 3] coincideix 1 número amb el seu índex: 2\n"
     ]
    }
   ],
   "source": [
    "# Llista amb un número coincident amb el seu índex\n",
    "num_index(llista_index1)"
   ]
  },
  {
   "cell_type": "code",
   "execution_count": 16,
   "id": "b347105e",
   "metadata": {},
   "outputs": [
    {
     "name": "stdout",
     "output_type": "stream",
     "text": [
      "A la llista [4, 7, 9, 3, 4, 5, 0, 1] coincideixen 3 números amb el seu índex: 3, 4, 5\n"
     ]
    }
   ],
   "source": [
    "# Llista amb diversos números coincidents amb el seu índex\n",
    "num_index(llista_index2)"
   ]
  },
  {
   "cell_type": "code",
   "execution_count": 17,
   "id": "f442df86",
   "metadata": {},
   "outputs": [
    {
     "name": "stdout",
     "output_type": "stream",
     "text": [
      "A la llista [1, 2, 3, 4, 5, 6, 7, 8] no coincideix cap número amb el seu índex.\n"
     ]
    }
   ],
   "source": [
    "# Llista amb cap número coincident amb el seu índex\n",
    "num_index(llista_index3)"
   ]
  },
  {
   "cell_type": "code",
   "execution_count": null,
   "id": "1bbcd7f5",
   "metadata": {},
   "outputs": [],
   "source": []
  }
 ],
 "metadata": {
  "kernelspec": {
   "display_name": "Python 3",
   "language": "python",
   "name": "python3"
  },
  "language_info": {
   "codemirror_mode": {
    "name": "ipython",
    "version": 3
   },
   "file_extension": ".py",
   "mimetype": "text/x-python",
   "name": "python",
   "nbconvert_exporter": "python",
   "pygments_lexer": "ipython3",
   "version": "3.8.8"
  },
  "latex_envs": {
   "LaTeX_envs_menu_present": true,
   "autoclose": false,
   "autocomplete": true,
   "bibliofile": "biblio.bib",
   "cite_by": "apalike",
   "current_citInitial": 1,
   "eqLabelWithNumbers": true,
   "eqNumInitial": 1,
   "hotkeys": {
    "equation": "Ctrl-E",
    "itemize": "Ctrl-I"
   },
   "labels_anchors": false,
   "latex_user_defs": false,
   "report_style_numbering": false,
   "user_envs_cfg": false
  },
  "toc": {
   "base_numbering": 1,
   "nav_menu": {},
   "number_sections": true,
   "sideBar": true,
   "skip_h1_title": false,
   "title_cell": "Table of Contents",
   "title_sidebar": "Contents",
   "toc_cell": false,
   "toc_position": {},
   "toc_section_display": true,
   "toc_window_display": false
  }
 },
 "nbformat": 4,
 "nbformat_minor": 5
}
